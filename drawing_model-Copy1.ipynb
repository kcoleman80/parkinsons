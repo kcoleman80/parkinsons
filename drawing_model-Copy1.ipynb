{
 "cells": [
  {
   "cell_type": "code",
   "execution_count": null,
   "metadata": {},
   "outputs": [],
   "source": [
    "%load_ext autoreload\n",
    "%autoreload 2\n",
    "%matplotlib inline\n",
    "import seaborn as sns\n",
    "import matplotlib.pyplot as plt\n",
    "plt.rcParams[\"figure.figsize\"] = (8, 8)\n",
    "plt.rcParams[\"figure.dpi\"] = 160\n",
    "plt.rcParams[\"font.size\"] = 14\n",
    "plt.rcParams['font.family'] = ['sans-serif']\n",
    "plt.rcParams['font.sans-serif'] = ['DejaVu Sans']\n",
    "plt.style.use('ggplot')\n",
    "sns.set_style(\"whitegrid\", {'axes.grid': False})"
   ]
  },
  {
   "cell_type": "code",
   "execution_count": null,
   "metadata": {},
   "outputs": [],
   "source": [
    "import numpy as np\n",
    "from skimage.io import imread\n",
    "from skimage.util import montage as montage2d\n",
    "import pandas as pd\n",
    "from pathlib import Path\n",
    "data_dir = Path('/....../Parkinsons/drawings/')"
   ]
  },
  {
   "cell_type": "code",
   "execution_count": null,
   "metadata": {},
   "outputs": [],
   "source": [
    "path = '/....../Parkinsons/drawings/'"
   ]
  },
  {
   "cell_type": "code",
   "execution_count": null,
   "metadata": {},
   "outputs": [],
   "source": [
    "draw_df = pd.DataFrame({'path': list(data_dir.glob('*/*/*/*.png'))})\n",
    "draw_df['img_id'] = draw_df['path'].map(lambda x: x.stem)\n",
    "draw_df['disease'] = draw_df['path'].map(lambda x: x.parent.stem)\n",
    "draw_df['validation'] = draw_df['path'].map(lambda x: x.parent.parent.stem)\n",
    "draw_df['activity'] = draw_df['path'].map(lambda x: x.parent.parent.parent.stem)\n",
    "print(draw_df.shape, 'images loaded')\n",
    "draw_df.sample(3)"
   ]
  },
  {
   "cell_type": "code",
   "execution_count": null,
   "metadata": {},
   "outputs": [],
   "source": [
    "def fixed_imread(in_path, resize=True):\n",
    "    \"\"\"read images, invert and scale them\"\"\"\n",
    "    c_img = 1.0-imread(in_path, as_gray=True)\n",
    "    max_dim = np.max(c_img.shape)\n",
    "    if not resize:\n",
    "        return c_img\n",
    "    if c_img.shape==(256, 256):\n",
    "        return c_img\n",
    "    if max_dim>256:\n",
    "        big_dim = 512\n",
    "    else:\n",
    "        big_dim = 256\n",
    "        \n",
    "    out_img = np.zeros((big_dim, big_dim), dtype='float32')\n",
    "    c_offset = (big_dim-c_img.shape[0])//2\n",
    "    d_offset = c_img.shape[0]+c_offset\n",
    "    \n",
    "    e_offset = (big_dim-c_img.shape[1])//2\n",
    "    f_offset = c_img.shape[1]+e_offset\n",
    "    out_img[c_offset:d_offset, e_offset:f_offset] = c_img[:(d_offset-c_offset), :(f_offset-e_offset)]\n",
    "    return out_img"
   ]
  },
  {
   "cell_type": "code",
   "execution_count": null,
   "metadata": {},
   "outputs": [],
   "source": [
    "fig, m_axs = plt.subplots(2, 2, figsize=(20, 20))\n",
    "for c_ax, (c_lab, c_rows) in zip(m_axs.flatten(), draw_df.groupby(['activity', 'disease'])):\n",
    "    prev_img = montage2d(np.stack([fixed_imread(x) for x in c_rows['path'].iloc[0:9]], 0))\n",
    "    c_ax.imshow(prev_img, cmap='gray')\n",
    "    c_ax.set_title(' '.join(c_lab))\n",
    "    c_ax.axis('off')"
   ]
  },
  {
   "cell_type": "code",
   "execution_count": null,
   "metadata": {},
   "outputs": [],
   "source": [
    "from skimage.io import imread\n",
    "from skimage.util import montage as montage2d\n",
    "from skimage.filters import threshold_yen as thresh_func\n",
    "from skimage.filters import median\n",
    "from skimage.morphology import disk\n",
    "import numpy as np\n",
    "def process_imread(in_path, resize=True):\n",
    "    \"\"\"read images, invert and scale them\"\"\"\n",
    "    c_img = 1.0-imread(in_path, as_gray=True)\n",
    "    max_dim = np.max(c_img.shape)\n",
    "    if not resize:\n",
    "        return c_img\n",
    "    if c_img.shape==(256, 256):\n",
    "        return c_img\n",
    "    if max_dim>256:\n",
    "        big_dim = 512\n",
    "    else:\n",
    "        big_dim = 256\n",
    "    \"\"\" pad with zeros and center image, sizing to either 256 or 512\"\"\"   \n",
    "    out_img = np.zeros((big_dim, big_dim), dtype='float32')\n",
    "    c_offset = (big_dim-c_img.shape[0])//2\n",
    "    d_offset = c_img.shape[0]+c_offset\n",
    "    \n",
    "    e_offset = (big_dim-c_img.shape[1])//2\n",
    "    f_offset = c_img.shape[1]+e_offset\n",
    "    out_img[c_offset:d_offset, e_offset:f_offset] = c_img[:(d_offset-c_offset), :(f_offset-e_offset)]\n",
    "    return out_img\n",
    "def read_and_thresh(in_path, resize=True):\n",
    "    c_img = process_imread(in_path, resize=resize)\n",
    "    c_img = (255*c_img).clip(0, 255).astype('uint8')\n",
    "    c_img = median(c_img, disk(1))\n",
    "    c_thresh = thresh_func(c_img)\n",
    "    return c_img>c_thresh"
   ]
  },
  {
   "cell_type": "code",
   "execution_count": null,
   "metadata": {},
   "outputs": [],
   "source": [
    "from skimage.morphology import label as sk_label\n",
    "def label_sort(in_img, cutoff=0.01):\n",
    "    total_cnt = np.sum(in_img>0)\n",
    "    lab_img = sk_label(in_img)\n",
    "    new_image = np.zeros_like(lab_img)\n",
    "    remap_index = []\n",
    "    for k in np.unique(lab_img[lab_img>0]):\n",
    "        cnt = np.sum(lab_img==k) # get area of labelled object\n",
    "        if cnt>total_cnt*cutoff:\n",
    "            remap_index+=[(k, cnt)]\n",
    "    sorted_index = sorted(remap_index, key=lambda x: -x[1]) # reverse sort - largest is first\n",
    "    for new_idx, (old_idx, idx_count) in enumerate(sorted_index, 1): #enumerate starting at id 1\n",
    "        new_image[lab_img==old_idx] = new_idx\n",
    "    return new_image"
   ]
  },
  {
   "cell_type": "code",
   "execution_count": null,
   "metadata": {},
   "outputs": [],
   "source": [
    "from skimage.morphology import medial_axis\n",
    "from skimage.morphology import skeletonize\n",
    "def stroke_thickness_img(in_img):\n",
    "    skel, distance = medial_axis(in_img, return_distance=True)\n",
    "    skeleton = skeletonize(in_img)\n",
    "    # Distance to the background for pixels of the skeleton\n",
    "    return distance * skeleton"
   ]
  },
  {
   "cell_type": "markdown",
   "metadata": {},
   "source": [
    "# Filter and Segment\n",
    "\n",
    "We can filter and segment the images in order to extract the drawings more clearly as just drawing pixels and noise"
   ]
  },
  {
   "cell_type": "code",
   "execution_count": null,
   "metadata": {},
   "outputs": [],
   "source": [
    "from skimage.filters import threshold_yen as thresh_func\n",
    "from skimage.filters import median\n",
    "from skimage.morphology import disk, opening, diamond\n",
    "\n",
    "def read_and_thresh(in_path, resize=True):\n",
    "    c_img = fixed_imread(in_path, resize=resize)\n",
    "    c_img = (255*c_img).clip(0, 255).astype('uint8')\n",
    "    c_img = median(c_img, disk(2))\n",
    "    c_thresh = thresh_func(c_img)\n",
    "    return c_img>c_thresh\n",
    "fig, m_axs = plt.subplots(2, 2, figsize=(10, 10))\n",
    "for c_ax, (c_lab, c_rows) in zip(m_axs.flatten(), draw_df.groupby(['activity', 'disease'])):\n",
    "    prev_img = montage2d(np.stack([read_and_thresh(x) for x in c_rows['path'].iloc[0:9]], 0))\n",
    "    c_ax.imshow(prev_img, cmap='gray')\n",
    "    c_ax.set_title(' '.join(c_lab))\n",
    "    c_ax.axis('off')"
   ]
  },
  {
   "cell_type": "code",
   "execution_count": null,
   "metadata": {},
   "outputs": [],
   "source": [
    "%%time\n",
    "# run all images\n",
    "draw_df['thresh_img'] = draw_df['path'].map(lambda x: read_and_thresh(x, resize=False))"
   ]
  },
  {
   "cell_type": "code",
   "execution_count": null,
   "metadata": {},
   "outputs": [],
   "source": [
    "fig, m_axs = plt.subplots(3, 3)\n",
    "for c_ax, (c_lab, c_row) in zip(m_axs.flatten(), draw_df.sample(9).iterrows()):\n",
    "    c_ax.imshow(c_row['thresh_img'], cmap='gray')\n",
    "    c_ax.set_title('{activity} {disease}'.format(**c_row))\n",
    "    c_ax.axis('off')"
   ]
  },
  {
   "cell_type": "code",
   "execution_count": null,
   "metadata": {},
   "outputs": [],
   "source": [
    "from skimage.morphology import label\n",
    "from skimage.morphology import closing\n",
    "def label_sort(in_img, cutoff=0.1):\n",
    "    total_cnt = np.sum(in_img>0)\n",
    "    lab_img = label(in_img)\n",
    "    new_image = np.zeros_like(lab_img)\n",
    "    remap_index = []\n",
    "    for k in np.unique(lab_img[lab_img>0]):\n",
    "        cnt = np.sum(lab_img==k)\n",
    "        if cnt>total_cnt*cutoff:\n",
    "            remap_index+=[(k, cnt)]\n",
    "    sorted_index = sorted(remap_index, key=lambda x: -x[1])\n",
    "    for new_idx, (old_idx, idx_count) in enumerate(sorted_index, 1):\n",
    "        new_image[lab_img==old_idx] = new_idx\n",
    "    return new_image"
   ]
  },
  {
   "cell_type": "code",
   "execution_count": null,
   "metadata": {},
   "outputs": [],
   "source": [
    "fig, m_axs = plt.subplots(3, 3)\n",
    "for c_ax, (c_lab, c_row) in zip(m_axs.flatten(), draw_df.sample(9).iterrows()):\n",
    "    clean_img = closing(label_sort(c_row['thresh_img'])>0, disk(2))\n",
    "    c_ax.imshow(clean_img, cmap='gray')\n",
    "    c_ax.set_title('{activity} {disease}'.format(**c_row))\n",
    "    c_ax.axis('off')"
   ]
  },
  {
   "cell_type": "code",
   "execution_count": null,
   "metadata": {},
   "outputs": [],
   "source": [
    "%%time\n",
    "draw_df['clean_img'] = draw_df['thresh_img'].map(lambda x: closing(label_sort(x)>0, disk(2)))"
   ]
  },
  {
   "cell_type": "code",
   "execution_count": null,
   "metadata": {},
   "outputs": [],
   "source": [
    "from skimage.morphology import skeletonize\n",
    "\n",
    "fig, m_axs = plt.subplots(3, 3)\n",
    "for c_ax, (c_lab, c_row) in zip(m_axs.flatten(), draw_df.sample(9).iterrows()):\n",
    "    skel_img = skeletonize(c_row['clean_img'])\n",
    "    skel_y, skel_x = np.where(skel_img)\n",
    "    skel_x = skel_x*1.0/skel_img.shape[1]\n",
    "    skel_y = skel_y*1.0/skel_img.shape[0]\n",
    "    \n",
    "    c_ax.plot(skel_x, skel_y, 'b.')\n",
    "    c_ax.set_title('{activity} {disease}'.format(**c_row))\n",
    "    c_ax.axis('off')"
   ]
  },
  {
   "cell_type": "markdown",
   "metadata": {},
   "source": [
    "# Convert to table\n",
    "\n",
    "We convert all of the detected skeleton points into a table and combine all of the results together"
   ]
  },
  {
   "cell_type": "code",
   "execution_count": null,
   "metadata": {},
   "outputs": [],
   "source": [
    "all_row_list = []\n",
    "for _, c_row in draw_df.iterrows():\n",
    "    skel_img = skeletonize(c_row['clean_img'])\n",
    "    skel_y, skel_x = np.where(skel_img)\n",
    "    skel_x = skel_x*1.0/skel_img.shape[1]\n",
    "    skel_y = skel_y*1.0/skel_img.shape[0]\n",
    "    for x, y in zip(skel_x, skel_y):\n",
    "        d_row = dict(**{k: v for k,v in c_row.items() if len(np.shape(v))<1})\n",
    "        d_row['x'] = x\n",
    "        d_row['y'] = y\n",
    "        all_row_list += [d_row]"
   ]
  },
  {
   "cell_type": "code",
   "execution_count": null,
   "metadata": {},
   "outputs": [],
   "source": [
    "all_row_df = pd.DataFrame(all_row_list)\n",
    "all_row_df.sample(3)"
   ]
  },
  {
   "cell_type": "markdown",
   "metadata": {},
   "source": [
    "# Overlay drawings on same axis for comparison\n",
    "\n",
    "Plotting the skeleton pixels as points, and rescaling we can overlay all of the images on top of each other for better visualization. The healthy patients are significantly more consistent than the Parkinson's."
   ]
  },
  {
   "cell_type": "code",
   "execution_count": null,
   "metadata": {},
   "outputs": [],
   "source": [
    "fig, m_axs = plt.subplots(2, 2, figsize=(30, 30), dpi=72)\n",
    "for c_ax, (c_lab, c_rows) in zip(m_axs.flatten(), all_row_df.groupby(['activity', 'disease'])):\n",
    "    for c_id, d_rows in c_rows.groupby('img_id'):\n",
    "        mean_std = np.mean([d_rows['x'].std(), d_rows['y'].std()])\n",
    "        c_ax.plot((d_rows['x']-d_rows['x'].mean())/mean_std, \n",
    "                  (d_rows['y']-d_rows['y'].mean())/mean_std, '.', label=c_id, ms=0.75)\n",
    "    c_ax.legend()\n",
    "    c_ax.set_title(' '.join(c_lab))\n",
    "    c_ax.axis('off')"
   ]
  },
  {
   "cell_type": "code",
   "execution_count": null,
   "metadata": {},
   "outputs": [],
   "source": []
  },
  {
   "cell_type": "code",
   "execution_count": null,
   "metadata": {},
   "outputs": [],
   "source": []
  },
  {
   "cell_type": "code",
   "execution_count": null,
   "metadata": {},
   "outputs": [],
   "source": []
  }
 ],
 "metadata": {
  "kernelspec": {
   "display_name": "Python 3",
   "language": "python",
   "name": "python3"
  },
  "language_info": {
   "codemirror_mode": {
    "name": "ipython",
    "version": 3
   },
   "file_extension": ".py",
   "mimetype": "text/x-python",
   "name": "python",
   "nbconvert_exporter": "python",
   "pygments_lexer": "ipython3",
   "version": "3.7.6"
  }
 },
 "nbformat": 4,
 "nbformat_minor": 4
}
